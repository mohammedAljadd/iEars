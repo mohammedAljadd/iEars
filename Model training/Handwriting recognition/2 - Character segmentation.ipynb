{
 "cells": [
  {
   "cell_type": "code",
   "execution_count": null,
   "id": "066cfc28",
   "metadata": {},
   "outputs": [],
   "source": [
    "import numpy as np \n",
    "import pandas as pd \n",
    "import matplotlib.pyplot as plt\n",
    "import seaborn as sns\n",
    "import os\n",
    "from sklearn.preprocessing import MinMaxScaler\n",
    "import tensorflow as tf\n",
    "from keras.models import Sequential\n",
    "from keras.layers import Dense\n",
    "from keras.layers import Dropout\n",
    "from keras.layers import Flatten\n",
    "from keras.layers.convolutional import Conv2D\n",
    "from keras.layers.convolutional import MaxPooling2D\n",
    "from keras import backend as K\n",
    "from keras.utils import np_utils\n",
    "from sklearn.model_selection import train_test_split\n",
    "from sklearn.metrics import confusion_matrix\n",
    "import numpy as np\n",
    "import matplotlib.pyplot as plt\n",
    "import os\n",
    "import cv2\n",
    "from tqdm import tqdm\n",
    "import tensorflow as tf\n",
    "from tensorflow.keras.models import Sequential\n",
    "from tensorflow.keras.layers import Dense, Dropout, Activation, Flatten, BatchNormalization\n",
    "from tensorflow.keras.layers import Conv2D, MaxPooling2D\n",
    "import pickle\n",
    "from tensorflow.keras.preprocessing.image import ImageDataGenerator\n",
    "import random\n",
    "from tensorflow.keras.utils import to_categorical\n",
    "from sklearn.model_selection import train_test_split\n",
    "from tensorflow.keras.models import load_model\n",
    "from random import randrange, uniform\n",
    "from time import time\n",
    "import glob\n",
    "import shutil\n",
    "import itertools\n",
    "from time import time\n",
    "\n",
    "#ignore warning messages \n",
    "import warnings\n",
    "warnings.filterwarnings('ignore') \n",
    "\n",
    "sns.set()"
   ]
  },
  {
   "cell_type": "code",
   "execution_count": null,
   "id": "99ae6a55",
   "metadata": {},
   "outputs": [],
   "source": [
    "def show(image, cmap):\n",
    "    if cmap == 1:\n",
    "        plt.imshow(image)\n",
    "    else:\n",
    "        plt.imshow(image, cmap='gray')\n",
    "    plt.show()"
   ]
  },
  {
   "cell_type": "markdown",
   "id": "0863eb05",
   "metadata": {},
   "source": [
    "# Read image RGB"
   ]
  },
  {
   "cell_type": "code",
   "execution_count": null,
   "id": "c1e420d0",
   "metadata": {},
   "outputs": [],
   "source": [
    "image_color = cv2.imread('ktaba.jpg', cv2.COLOR_BGR2RGB)\n",
    "plt.imshow(image_color)\n",
    "plt.show()"
   ]
  },
  {
   "cell_type": "markdown",
   "id": "d7ef44e0",
   "metadata": {},
   "source": [
    "# Remove noise"
   ]
  },
  {
   "cell_type": "code",
   "execution_count": null,
   "id": "3b8afc18",
   "metadata": {},
   "outputs": [],
   "source": [
    "image_denoise = cv2.fastNlMeansDenoisingColored(image_color, None, 25, 25, 7, 25)\n",
    "plt.imshow(image_denoise)\n",
    "plt.show()"
   ]
  },
  {
   "cell_type": "markdown",
   "id": "091bef85",
   "metadata": {},
   "source": [
    "# Grayscale"
   ]
  },
  {
   "cell_type": "code",
   "execution_count": null,
   "id": "73d1b7b3",
   "metadata": {},
   "outputs": [],
   "source": [
    "image_gray = cv2.cvtColor(image_denoise, cv2.COLOR_BGR2GRAY)\n",
    "plt.imshow(image_gray, cmap='gray')\n",
    "plt.show()"
   ]
  },
  {
   "cell_type": "code",
   "execution_count": null,
   "id": "7c7ef2a7",
   "metadata": {},
   "outputs": [],
   "source": [
    "image_binary = cv2.adaptiveThreshold(image_gray, 255,cv2.ADAPTIVE_THRESH_GAUSSIAN_C,cv2.THRESH_BINARY,11,2)\n",
    "plt.imshow(image_binary, cmap='gray')\n",
    "plt.show()"
   ]
  },
  {
   "cell_type": "markdown",
   "id": "8ecf28b2",
   "metadata": {},
   "source": [
    "# Thinning"
   ]
  },
  {
   "cell_type": "code",
   "execution_count": null,
   "id": "4bbe0520",
   "metadata": {},
   "outputs": [],
   "source": [
    "kernel = np.ones((4,4),np.uint8)\n",
    "image_thin = cv2.erode(image_binary, kernel, iterations = 1)\n",
    "plt.imshow(image_thin, cmap='gray')\n",
    "plt.show()"
   ]
  },
  {
   "cell_type": "markdown",
   "id": "61512f63",
   "metadata": {},
   "source": [
    "# Character level segmentation"
   ]
  },
  {
   "cell_type": "code",
   "execution_count": null,
   "id": "3d85b944",
   "metadata": {},
   "outputs": [],
   "source": [
    "mask = cv2.inRange(image_thin, 0, 0)\n",
    "show(mask, 'gray')"
   ]
  },
  {
   "cell_type": "code",
   "execution_count": null,
   "id": "ed3217f2",
   "metadata": {},
   "outputs": [],
   "source": [
    "mask_color = cv2.cvtColor(mask, cv2.COLOR_GRAY2RGB)\n",
    "show(mask_color, 1)"
   ]
  },
  {
   "cell_type": "code",
   "execution_count": null,
   "id": "014aa7c3",
   "metadata": {},
   "outputs": [],
   "source": [
    "gray = mask\n",
    "\n",
    "# Apply adaptive threshold\n",
    "thresh = cv2.adaptiveThreshold(gray,255, 1, 1, 11, 2)\n",
    "thresh_color = cv2.cvtColor(thresh,cv2.COLOR_GRAY2BGR)\n",
    "\n",
    "# apply some dilation and erosion to join the gaps\n",
    "thresh = cv2.dilate(thresh,None,iterations = 3)\n",
    "thresh = cv2.erode(thresh,None,iterations = 2)\n",
    "\n",
    "# Find the contours\n",
    "contours,hierarchy = cv2.findContours(thresh,cv2.RETR_LIST,cv2.CHAIN_APPROX_SIMPLE)\n",
    "\n",
    "# For each contour, find the bounding rectangle and draw it\n",
    "\n",
    "i = 0\n",
    "for cnt in contours:\n",
    "    x,y,w,h = cv2.boundingRect(cnt)\n",
    "    roi = mask[y:y+h, x:x+w]\n",
    "    cv2.rectangle(mask,(x,x+w),(y,y+h),(255,0,0),2)\n",
    "    #cv2.imwrite(f\"segment{i}\", roi)\n",
    "    \n",
    "    #i += 1\n",
    "    #cv2.rectangle(thresh_color,(x,y),(x+w,y+h),(0,255,0),2)\n",
    "\n",
    "# Finally show the image\n",
    "plt.imshow(mask)\n",
    "plt.show()"
   ]
  }
 ],
 "metadata": {
  "kernelspec": {
   "display_name": "Python 3 (ipykernel)",
   "language": "python",
   "name": "python3"
  },
  "language_info": {
   "codemirror_mode": {
    "name": "ipython",
    "version": 3
   },
   "file_extension": ".py",
   "mimetype": "text/x-python",
   "name": "python",
   "nbconvert_exporter": "python",
   "pygments_lexer": "ipython3",
   "version": "3.9.9"
  }
 },
 "nbformat": 4,
 "nbformat_minor": 5
}
