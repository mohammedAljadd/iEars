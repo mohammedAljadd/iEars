{
 "cells": [
  {
   "cell_type": "markdown",
   "id": "6a8e020c",
   "metadata": {},
   "source": [
    "# Multi-Face identification using CNN : Grayscale\n",
    "\n",
    "\n",
    " - In this notebook we will build our facial identification model step by step to recognize four people. Note that we have images in **jpg** format, and we will go throw the details on how to prepare the data (X, y) for our CNN model. We add an extra folder where we put images for some people that we don't know to classify them as **unknown**.\n",
    " - The model will be trained on images containing faces, what I mean by that is each image contains just the face area. We don't take the background into consideration.\n",
    " - If your images are not like that, you have two options:\n",
    "     - Manually resized them and keep just the face part.\n",
    "     - Use <a href=\"https://docs.opencv.org/3.4/db/d28/tutorial_cascade_classifier.html\">face cascade classifier</a> to extract the face part from each image and save them. If the face cascade classifier miss some faces, then you will manually resize them. \n",
    "\n",
    " - The model will run on real-time, for each video frame, we will first extract the faces using face cascade and then make predictions. For each face in an image we make prediction.\n",
    " \n",
    "First let's import some libraries :"
   ]
  },
  {
   "cell_type": "code",
   "execution_count": null,
   "id": "6563aad3",
   "metadata": {},
   "outputs": [],
   "source": [
    "import numpy as np\n",
    "import matplotlib.pyplot as plt\n",
    "import os\n",
    "import cv2\n",
    "from tqdm import tqdm\n",
    "import tensorflow as tf\n",
    "from tensorflow.keras.models import Sequential\n",
    "from tensorflow.keras.layers import Dense, Dropout, Activation, Flatten, BatchNormalization\n",
    "from tensorflow.keras.layers import Conv2D, MaxPooling2D\n",
    "import pickle\n",
    "from tensorflow.keras.preprocessing.image import ImageDataGenerator\n",
    "import random\n",
    "from tensorflow.keras.utils import to_categorical\n",
    "from sklearn.model_selection import train_test_split\n",
    "from tensorflow.keras.models import load_model\n",
    "from random import randrange, uniform\n",
    "from time import time\n",
    "import glob\n",
    "import shutil\n",
    "import itertools\n",
    "from time import time\n",
    "\n",
    "import warnings\n",
    "warnings.simplefilter(action='ignore', category=FutureWarning)\n",
    "%matplotlib inline\n",
    "\n",
    "\n",
    "# Image size\n",
    "IMG_SIZE = 32\n",
    "\n",
    "# Dataset folder\n",
    "DATADIR = \"dataset\"\n",
    "\n",
    "# Five classes/folders\n",
    "CATEGORIES = [\"aljadd\", \"nossaiba\", \"nouhaila\", \"langze\", \"unknown\"]"
   ]
  },
  {
   "cell_type": "markdown",
   "id": "69338739",
   "metadata": {},
   "source": [
    "# Create trainning, validation and test sets"
   ]
  },
  {
   "cell_type": "code",
   "execution_count": 136,
   "id": "41d6d54e",
   "metadata": {},
   "outputs": [
    {
     "name": "stdout",
     "output_type": "stream",
     "text": [
      "aljadd\n",
      "nossaiba\n",
      "nouhaila\n",
      "langze\n",
      "unknown\n"
     ]
    }
   ],
   "source": [
    "os.chdir('dataset')\n",
    "if os.path.isdir('train/aljadd') is False:\n",
    "    for category in CATEGORIES:\n",
    "        # Make DataVGG16/train/category\n",
    "        os.makedirs(f'train/{category}')\n",
    "        \n",
    "        # Make DataVGG16/test/category\n",
    "        os.makedirs(f'test/{category}')\n",
    "        \n",
    "        # Make DataVGG16/valid/category\n",
    "        os.makedirs(f'valid/{category}')\n",
    "\n",
    "        \n",
    "    for category in CATEGORIES:\n",
    "        print(category)\n",
    "        # Randomly take 300 images for training\n",
    "        for c in random.sample(glob.glob(f'{category}/{category}*'), 350):\n",
    "            shutil.move(c, f'train/{category}')\n",
    "\n",
    "        # Randomly take 70 images for validation\n",
    "        for c in random.sample(glob.glob(f'{category}/{category}*'), 50):\n",
    "            shutil.move(c, f'valid/{category}')\n",
    "\n",
    "        # Move the rest to test folder\n",
    "        for img in os.listdir(f'{category}/'):\n",
    "            image = f'{category}/{img}'\n",
    "            shutil.move(image, f'test/{category}')"
   ]
  },
  {
   "cell_type": "markdown",
   "id": "71ff7512",
   "metadata": {},
   "source": [
    "**Move back images if necessary**"
   ]
  },
  {
   "cell_type": "code",
   "execution_count": 132,
   "id": "8edc54f3",
   "metadata": {},
   "outputs": [],
   "source": [
    "# Were are still in dataset folder\n",
    "\n",
    "def reset(): # Move every images back to initial folder\n",
    "    three_folders = [\"train\", \"test\", \"valid\"]\n",
    "    for category in CATEGORIES:\n",
    "        for folder in three_folders:\n",
    "            for img in os.listdir(f'{folder}/{category}'):\n",
    "                image = fr'{folder}/{category}/{img}'\n",
    "                shutil.move(image, f'{category}')\n",
    "reset()"
   ]
  },
  {
   "cell_type": "code",
   "execution_count": 137,
   "id": "c2363a25",
   "metadata": {},
   "outputs": [
    {
     "name": "stdout",
     "output_type": "stream",
     "text": [
      "/cygdrive/c/Users/install.PO-ETU007/Desktop/MyProjects/iEars_models/facial_recognition/dataset\n"
     ]
    }
   ],
   "source": [
    "!pwd"
   ]
  },
  {
   "cell_type": "code",
   "execution_count": 138,
   "id": "0098ddfe",
   "metadata": {},
   "outputs": [],
   "source": [
    "os.chdir(\"../\")"
   ]
  },
  {
   "cell_type": "code",
   "execution_count": 139,
   "id": "bc26cb50",
   "metadata": {},
   "outputs": [
    {
     "name": "stdout",
     "output_type": "stream",
     "text": [
      "/cygdrive/c/Users/install.PO-ETU007/Desktop/MyProjects/iEars_models/facial_recognition\n"
     ]
    }
   ],
   "source": [
    "!pwd"
   ]
  },
  {
   "cell_type": "markdown",
   "id": "47bbca4e",
   "metadata": {},
   "source": [
    "# Data preprocessing"
   ]
  },
  {
   "cell_type": "markdown",
   "id": "456dff7f",
   "metadata": {},
   "source": [
    "## 1- Create arrays of grayscale images"
   ]
  },
  {
   "cell_type": "code",
   "execution_count": 140,
   "id": "9dd5fb54",
   "metadata": {},
   "outputs": [
    {
     "name": "stderr",
     "output_type": "stream",
     "text": [
      "100%|███████████████████████████████████████████████████████████████████████████████| 350/350 [00:00<00:00, 561.53it/s]\n",
      "100%|███████████████████████████████████████████████████████████████████████████████| 350/350 [00:01<00:00, 317.43it/s]\n",
      "100%|██████████████████████████████████████████████████████████████████████████████| 350/350 [00:00<00:00, 1149.59it/s]\n",
      "100%|███████████████████████████████████████████████████████████████████████████████| 350/350 [00:00<00:00, 882.34it/s]\n",
      "100%|███████████████████████████████████████████████████████████████████████████████| 350/350 [00:00<00:00, 807.78it/s]\n",
      "100%|█████████████████████████████████████████████████████████████████████████████████| 50/50 [00:00<00:00, 649.35it/s]\n",
      "100%|█████████████████████████████████████████████████████████████████████████████████| 50/50 [00:00<00:00, 166.19it/s]\n",
      "100%|████████████████████████████████████████████████████████████████████████████████| 50/50 [00:00<00:00, 1211.58it/s]\n",
      "100%|█████████████████████████████████████████████████████████████████████████████████| 50/50 [00:00<00:00, 892.96it/s]\n",
      "100%|█████████████████████████████████████████████████████████████████████████████████| 50/50 [00:00<00:00, 862.00it/s]\n",
      "100%|███████████████████████████████████████████████████████████████████████████████| 300/300 [00:00<00:00, 537.44it/s]\n",
      "100%|███████████████████████████████████████████████████████████████████████████████| 157/157 [00:00<00:00, 579.41it/s]\n",
      "100%|██████████████████████████████████████████████████████████████████████████████████| 9/9 [00:00<00:00, 1309.95it/s]\n",
      "100%|███████████████████████████████████████████████████████████████████████████████| 115/115 [00:00<00:00, 751.44it/s]\n",
      "100%|███████████████████████████████████████████████████████████████████████████████| 300/300 [00:00<00:00, 815.11it/s]\n"
     ]
    }
   ],
   "source": [
    "train = []\n",
    "valid = []\n",
    "test = []\n",
    "sets = [\"train\", \"valid\", \"test\"]\n",
    "data = [train, valid, test]\n",
    "\n",
    "for s in range(0, 3):\n",
    "    \n",
    "    # Path to train, valid or test\n",
    "    path = os.path.join(\"dataset\", sets[s])\n",
    "    \n",
    "    for category in CATEGORIES:\n",
    "        \n",
    "        # index of the class: 0, ... 4\n",
    "        class_num = CATEGORIES.index(category)\n",
    "        \n",
    "        # Path to a category inside a set : eg. train/mohammed\n",
    "        full_path = os.path.join(path, category)\n",
    "        for img in tqdm(os.listdir(full_path)):\n",
    "            \n",
    "            img_path = os.path.join(full_path,img)\n",
    "            \n",
    "            # grayscale\n",
    "            img_gray = cv2.imread(img_path, cv2.IMREAD_GRAYSCALE)\n",
    "            img_resized = cv2.resize(img_gray, (IMG_SIZE, IMG_SIZE))\n",
    "            \n",
    "            # Add data to the three sets\n",
    "            data[s].append([img_resized, class_num]) "
   ]
  },
  {
   "cell_type": "code",
   "execution_count": 141,
   "id": "0055e3b7",
   "metadata": {},
   "outputs": [],
   "source": [
    "random.shuffle(train)\n",
    "random.shuffle(valid)\n",
    "random.shuffle(test)"
   ]
  },
  {
   "cell_type": "code",
   "execution_count": 142,
   "id": "f6b75f05",
   "metadata": {},
   "outputs": [],
   "source": [
    "# Make arrays\n",
    "\n",
    "X_train = []\n",
    "y_train = []\n",
    "\n",
    "X_valid = []\n",
    "y_valid = []\n",
    "\n",
    "X_test = []\n",
    "y_test = []\n",
    "\n",
    "data = [train, valid, test]\n",
    "\n",
    "# Train\n",
    "for features,label in train:\n",
    "    X_train.append(features)\n",
    "    y_train.append(label)\n",
    "X_train = np.array(X_train).reshape(-1, IMG_SIZE, IMG_SIZE, 1)\n",
    "y_train = np.array(y_train)\n",
    "\n",
    "# Valid\n",
    "for features,label in valid:\n",
    "    X_valid.append(features)\n",
    "    y_valid.append(label)\n",
    "X_valid = np.array(X_valid).reshape(-1, IMG_SIZE, IMG_SIZE, 1)\n",
    "y_valid = np.array(y_valid)\n",
    "\n",
    "# Test\n",
    "for features,label in test:\n",
    "    X_test.append(features)\n",
    "    y_test.append(label)\n",
    "X_test = np.array(X_test).reshape(-1, IMG_SIZE, IMG_SIZE, 1)\n",
    "y_test = np.array(y_test)"
   ]
  },
  {
   "cell_type": "code",
   "execution_count": 143,
   "id": "82c7f611",
   "metadata": {},
   "outputs": [
    {
     "data": {
      "image/png": "[encoded data removed]",
      "text/plain": [
       "<Figure size 576x576 with 3 Axes>"
      ]
     },
     "metadata": {
      "needs_background": "light"
     },
     "output_type": "display_data"
    }
   ],
   "source": [
    "# Let's plot one image from each set\n",
    "\n",
    "# random indexs\n",
    "i1 = random.randrange(0, len(X_train))\n",
    "i2 = random.randrange(0, len(X_valid))\n",
    "i3 = random.randrange(0, len(X_test))\n",
    "\n",
    "w = 10\n",
    "h = 10\n",
    "fig = plt.figure(figsize=(8, 8))\n",
    "columns = 3\n",
    "rows = 1\n",
    "fig.add_subplot(rows, columns, 1)\n",
    "plt.imshow(X_train[i1], cmap=\"gray\")\n",
    "plt.title(f\"Train, {y_train[i1]}\")\n",
    "fig.add_subplot(rows, columns, 2)\n",
    "plt.imshow(X_valid[i2], cmap=\"gray\")\n",
    "plt.title(f\"Valid, {y_valid[i2]}\")\n",
    "fig.add_subplot(rows, columns, 3)\n",
    "plt.imshow(X_test[i3], cmap=\"gray\")\n",
    "plt.title(f\"Test, {y_test[i3]}\")\n",
    "plt.show()"
   ]
  },
  {
   "cell_type": "markdown",
   "id": "254c48d1",
   "metadata": {},
   "source": [
    "## 2- One hot encoding"
   ]
  },
  {
   "cell_type": "markdown",
   "id": "7f2c6727",
   "metadata": {},
   "source": [
    "- This is very important to understand. In binary classification the y outputs takes two values (0, 1) but, in our case we have five values because class_num vary from 0 to 4. \n",
    " - y is :\n",
    "$$y = \\begin{bmatrix}0\\\\\n",
    "1\\\\\n",
    "2\\\\\n",
    "3\\\\\n",
    "4\\\\\n",
    "\\end{bmatrix}$$\n",
    "\n",
    "- Our CNN model accept only one hot format which is :\n",
    "$$y_{one-hot} = \\begin{bmatrix}1 & 0 & 0 & 0 & 0\\\\\n",
    "0 & 1 & 0 & 0 & 0\\\\\n",
    "0 & 0 & 1 & 0 & 0\\\\\n",
    "0 & 0 & 0 & 1 & 0\\\\\n",
    "0 & 0 & 0 & 0 & 1\\\\\n",
    "\\end{bmatrix}$$\n",
    "\n",
    "- Let's convert y to one hot format be using **to_categorical**:"
   ]
  },
  {
   "cell_type": "code",
   "execution_count": 144,
   "id": "bd91e9d8",
   "metadata": {},
   "outputs": [],
   "source": [
    "y_train = to_categorical(y_train)\n",
    "y_test = to_categorical(y_test)\n",
    "y_valid = to_categorical(y_valid)"
   ]
  },
  {
   "cell_type": "markdown",
   "id": "72442222",
   "metadata": {},
   "source": [
    "## 3- Data augmentation for training set"
   ]
  },
  {
   "cell_type": "markdown",
   "id": "b148e79f",
   "metadata": {},
   "source": [
    "   - **Data augmentation** in a technique used to increase the amount of data by adding slightly modified copies of already existing data or newly created synthetic data from existing data.\n",
    "   - Do not add soo much noise so that the model underfit the data.\n",
    "   - We will use <a href=\"https://www.tensorflow.org/api_docs/python/tf/keras/preprocessing/image/ImageDataGenerator\">ImageDataGenerator</a> from tensorflow."
   ]
  },
  {
   "cell_type": "code",
   "execution_count": 145,
   "id": "9b2fd780",
   "metadata": {},
   "outputs": [],
   "source": [
    " gen = ImageDataGenerator(\n",
    "        # Rotate images by 40°\n",
    "        rotation_range=20,\n",
    "        width_shift_range=0.1,\n",
    "        height_shift_range=0.1,\n",
    "        # shearing the image \n",
    "        shear_range=0.1,\n",
    "        channel_shift_range = 25,\n",
    "        brightness_range=(0.95, 1.45),\n",
    "        zoom_range=0.1,\n",
    "        horizontal_flip=True,\n",
    "        # The area left after rotationg image will be filled with same color on image\n",
    "        fill_mode='nearest')\n",
    "\n",
    "# This is for generating cropped images\n",
    "def crop(image, padding):\n",
    "    p = padding\n",
    "    w, h, _ = image.shape\n",
    "    cropped_image = image[p:w-p, p:h-p]\n",
    "    cropped_image = cv2.resize(cropped_image, (IMG_SIZE, IMG_SIZE))\n",
    "    cropped_image = cropped_image.reshape(IMG_SIZE, IMG_SIZE, 1)\n",
    "    return cropped_image"
   ]
  },
  {
   "cell_type": "code",
   "execution_count": 146,
   "id": "a5b810de",
   "metadata": {},
   "outputs": [],
   "source": [
    "# Display for each image the new generated image\n",
    "def show(img1, img2, img3, index):\n",
    "    w = 10\n",
    "    h = 10\n",
    "    fig = plt.figure(figsize=(8, 8))\n",
    "    columns = 3\n",
    "    rows = 1\n",
    "    fig.add_subplot(rows, columns, 1)\n",
    "    plt.imshow(img1, cmap=\"gray\")\n",
    "    plt.title(f'Original {index}')\n",
    "    \n",
    "    fig.add_subplot(rows, columns, 2)\n",
    "    plt.imshow(img2, cmap=\"gray\")\n",
    "    plt.title(f'Cropped {index}')\n",
    "    \n",
    "    fig.add_subplot(rows, columns, 3)\n",
    "    plt.imshow(img3, cmap=\"gray\")\n",
    "    plt.title(f'Generated {index}')\n",
    "    plt.show()"
   ]
  },
  {
   "cell_type": "code",
   "execution_count": 147,
   "id": "ae61ab04",
   "metadata": {},
   "outputs": [
    {
     "name": "stdout",
     "output_type": "stream",
     "text": [
      "Image number 35001 out of 36750\r"
     ]
    }
   ],
   "source": [
    "# Number of generated images for each original image:\n",
    "l = 20\n",
    "\n",
    "j = 1\n",
    "index = 0\n",
    "data_aug = []\n",
    "for img in X_train:\n",
    "    img_expanded = np.expand_dims(img,0)\n",
    "    \n",
    "    # Original image\n",
    "    data_aug.append([img, y_train[index]])\n",
    "    \n",
    "    # Cropped image\n",
    "    cropped = crop(image=img, padding=3)\n",
    "    data_aug.append([cropped, y_train[index]])\n",
    "    \n",
    "    \n",
    "    # ImageDataGenerator\n",
    "    aug_iter = gen.flow(img_expanded)\n",
    "    aug_images = [next(aug_iter)[0].astype(np.uint8) for i in range(l)]\n",
    "    \n",
    "    for image in aug_images:\n",
    "        image = cv2.resize(image, (IMG_SIZE, IMG_SIZE))\n",
    "        image = image.reshape((IMG_SIZE, IMG_SIZE, 1))\n",
    "        data_aug.append([image, y_train[index]])\n",
    "        # Show original image and the new created image. This is just to see is things are going well. \n",
    "        # Uncomment the following line of code if you want.\n",
    "        # show(img, cropped, image, y_train[index])\n",
    "        j += 1\n",
    "    print(f\"Image number {j} out of {(l+1)*len(X_train)}\", end='\\r')\n",
    "    index += 1"
   ]
  },
  {
   "cell_type": "code",
   "execution_count": 148,
   "id": "ac1294c9",
   "metadata": {},
   "outputs": [],
   "source": [
    "# Add the new data to X_train\n",
    "X_train = []\n",
    "y_train = []\n",
    "\n",
    "for features,label in data_aug:\n",
    "    X_train.append(features)\n",
    "    y_train.append(label)\n",
    "\n",
    "X_train = np.array(X_train)\n",
    "y_train = np.array(y_train)\n",
    "\n",
    "# Normalizing for fast computation (Backpropagation)\n",
    "\n",
    "X_train = tf.keras.utils.normalize(X_train, axis=1)\n",
    "X_valid = tf.keras.utils.normalize(X_valid, axis=1)\n",
    "X_test = tf.keras.utils.normalize(X_test, axis=1)"
   ]
  },
  {
   "cell_type": "markdown",
   "id": "f249c530",
   "metadata": {},
   "source": [
    "# Save data in pickle"
   ]
  },
  {
   "cell_type": "code",
   "execution_count": 149,
   "id": "aa1db2fb",
   "metadata": {},
   "outputs": [],
   "source": [
    "# I created a folder name data.pickle to save my data in\n",
    "pickle_out = open(\"data.pickle/X_train.pickle\",\"wb\")\n",
    "pickle.dump(X_train, pickle_out)\n",
    "pickle_out.close()\n",
    "\n",
    "pickle_out = open(\"data.pickle/y_train.pickle\",\"wb\")\n",
    "pickle.dump(y_train, pickle_out)\n",
    "pickle_out.close()\n",
    "\n",
    "pickle_out = open(\"data.pickle/X_valid.pickle\",\"wb\")\n",
    "pickle.dump(X_valid, pickle_out)\n",
    "pickle_out.close()\n",
    "\n",
    "pickle_out = open(\"data.pickle/y_valid.pickle\",\"wb\")\n",
    "pickle.dump(y_valid, pickle_out)\n",
    "pickle_out.close()\n",
    "\n",
    "pickle_out = open(\"data.pickle/X_test.pickle\",\"wb\")\n",
    "pickle.dump(X_test, pickle_out)\n",
    "pickle_out.close()\n",
    "\n",
    "pickle_out = open(\"data.pickle/y_test.pickle\",\"wb\")\n",
    "pickle.dump(y_test, pickle_out)\n",
    "pickle_out.close()"
   ]
  },
  {
   "cell_type": "markdown",
   "id": "88848410",
   "metadata": {},
   "source": [
    "# Load data"
   ]
  },
  {
   "cell_type": "code",
   "execution_count": 150,
   "id": "e216ac49",
   "metadata": {},
   "outputs": [],
   "source": [
    "pickle_in = open(\"data.pickle/X_train.pickle\",\"rb\")\n",
    "X_train = pickle.load(pickle_in)\n",
    "\n",
    "pickle_in = open(\"data.pickle/y_train.pickle\",\"rb\")\n",
    "y_train = pickle.load(pickle_in)\n",
    "\n",
    "pickle_in = open(\"data.pickle/X_valid.pickle\",\"rb\")\n",
    "X_valid = pickle.load(pickle_in)\n",
    "\n",
    "pickle_in = open(\"data.pickle/y_valid.pickle\",\"rb\")\n",
    "y_valid = pickle.load(pickle_in)\n",
    "\n",
    "\n",
    "pickle_in = open(\"data.pickle/X_test.pickle\",\"rb\")\n",
    "X_test = pickle.load(pickle_in)\n",
    "\n",
    "pickle_in = open(\"data.pickle/y_test.pickle\",\"rb\")\n",
    "y_test = pickle.load(pickle_in)"
   ]
  },
  {
   "cell_type": "code",
   "execution_count": 151,
   "id": "048c474e",
   "metadata": {},
   "outputs": [
    {
     "data": {
      "text/plain": [
       "((38500, 32, 32, 1), (38500, 5))"
      ]
     },
     "execution_count": 151,
     "metadata": {},
     "output_type": "execute_result"
    }
   ],
   "source": [
    "X_train.shape, y_train.shape"
   ]
  },
  {
   "cell_type": "markdown",
   "id": "0da37ae4",
   "metadata": {},
   "source": [
    "### Build the CNN model"
   ]
  },
  {
   "cell_type": "code",
   "execution_count": 162,
   "id": "cd6b7c4f",
   "metadata": {},
   "outputs": [],
   "source": [
    "model = Sequential()\n",
    "\n",
    "model.add(Conv2D(18, kernel_size=3, activation='relu', input_shape=(IMG_SIZE, IMG_SIZE, 1)))\n",
    "\n",
    "\n",
    "model.add(Conv2D(32, kernel_size=3, activation='relu'))\n",
    "#model.add(Dropout(0.5))\n",
    "\n",
    "#model.add(Conv2D(30, kernel_size=3, activation='relu'))\n",
    "#model.add(Dropout(0.5))\n",
    "\n",
    "model.add(Conv2D(18, kernel_size=3, activation='relu'))\n",
    "\n",
    "model.add(Dropout(0.5))\n",
    "model.add(Flatten())\n",
    "\n",
    "# I have five classes\n",
    "model.add(Dense(5, activation='softmax'))\n",
    "model.compile(loss='binary_crossentropy', optimizer='adam', metrics=['accuracy'])"
   ]
  },
  {
   "cell_type": "code",
   "execution_count": 163,
   "id": "69a72a60",
   "metadata": {},
   "outputs": [
    {
     "name": "stdout",
     "output_type": "stream",
     "text": [
      "Model: \"sequential_12\"\n",
      "_________________________________________________________________\n",
      " Layer (type)                Output Shape              Param #   \n",
      "=================================================================\n",
      " conv2d_18 (Conv2D)          (None, 30, 30, 18)        180       \n",
      "                                                                 \n",
      " conv2d_19 (Conv2D)          (None, 28, 28, 32)        5216      \n",
      "                                                                 \n",
      " conv2d_20 (Conv2D)          (None, 26, 26, 18)        5202      \n",
      "                                                                 \n",
      " dropout_14 (Dropout)        (None, 26, 26, 18)        0         \n",
      "                                                                 \n",
      " flatten_12 (Flatten)        (None, 12168)             0         \n",
      "                                                                 \n",
      " dense_12 (Dense)            (None, 5)                 60845     \n",
      "                                                                 \n",
      "=================================================================\n",
      "Total params: 71,443\n",
      "Trainable params: 71,443\n",
      "Non-trainable params: 0\n",
      "_________________________________________________________________\n"
     ]
    }
   ],
   "source": [
    "model.summary()"
   ]
  },
  {
   "cell_type": "markdown",
   "id": "4ff062b4",
   "metadata": {},
   "source": [
    "### Train the model\n",
    "\n",
    " - Epochs are number of passes on the entire dataset. The model will pass 5 times on the dataset. In each epoch, it will takes 20 images (batch_size)"
   ]
  },
  {
   "cell_type": "code",
   "execution_count": 165,
   "id": "6ddfabe4",
   "metadata": {
    "scrolled": true
   },
   "outputs": [
    {
     "name": "stdout",
     "output_type": "stream",
     "text": [
      "Epoch 1/5\n",
      "1925/1925 [==============================] - 65s 34ms/step - loss: 0.2077 - accuracy: 0.8155 - val_loss: 0.0586 - val_accuracy: 0.9800\n",
      "Epoch 2/5\n",
      "1925/1925 [==============================] - 84s 44ms/step - loss: 0.1117 - accuracy: 0.9227 - val_loss: 0.0386 - val_accuracy: 0.9920\n",
      "Epoch 3/5\n",
      "1925/1925 [==============================] - 84s 44ms/step - loss: 0.0838 - accuracy: 0.9467 - val_loss: 0.0240 - val_accuracy: 0.9880\n",
      "Epoch 4/5\n",
      "1925/1925 [==============================] - 70s 36ms/step - loss: 0.0700 - accuracy: 0.9577 - val_loss: 0.0212 - val_accuracy: 0.9880\n",
      "Epoch 5/5\n",
      "1925/1925 [==============================] - 69s 36ms/step - loss: 0.0614 - accuracy: 0.9639 - val_loss: 0.0178 - val_accuracy: 0.9920\n"
     ]
    },
    {
     "data": {
      "text/plain": [
       "<keras.callbacks.History at 0x1cd9d137be0>"
      ]
     },
     "execution_count": 165,
     "metadata": {},
     "output_type": "execute_result"
    }
   ],
   "source": [
    "model.fit(X_train, y_train, batch_size=20, epochs=5, validation_data=(X_valid, y_valid))"
   ]
  },
  {
   "cell_type": "markdown",
   "id": "af6c49a6",
   "metadata": {},
   "source": [
    "### Evaluate the model on the test set"
   ]
  },
  {
   "cell_type": "code",
   "execution_count": 166,
   "id": "6ea6434c",
   "metadata": {},
   "outputs": [
    {
     "name": "stdout",
     "output_type": "stream",
     "text": [
      "28/28 [==============================] - 0s 6ms/step - loss: 0.0502 - accuracy: 0.9682\n"
     ]
    },
    {
     "data": {
      "text/plain": [
       "[0.05017539858818054, 0.9682179093360901]"
      ]
     },
     "execution_count": 166,
     "metadata": {},
     "output_type": "execute_result"
    }
   ],
   "source": [
    "model.evaluate(X_test, y_test)"
   ]
  },
  {
   "cell_type": "code",
   "execution_count": 167,
   "id": "b1d6af6a",
   "metadata": {},
   "outputs": [],
   "source": [
    "def predict_from_X(threshold):\n",
    "    sample = X_test[random.randrange(0, len(X_test))]\n",
    "    image = np.expand_dims(sample, axis=0)\n",
    "    prediction = model.predict(image)\n",
    "    index = np.argmax(prediction[0])\n",
    "    probabilty = float(format(max(prediction[0]*100), \".3f\"))\n",
    "    plt.imshow(sample)\n",
    "    title = \"\"\n",
    "    if probabilty < threshold*100:\n",
    "        title = \"Unknown p<threshold\"\n",
    "    else:\n",
    "        title = f\"{CATEGORIES[index]} {probabilty}%\"\n",
    "    \n",
    "    plt.title(title)\n",
    "    plt.show()"
   ]
  },
  {
   "cell_type": "code",
   "execution_count": 173,
   "id": "a115ac69",
   "metadata": {},
   "outputs": [
    {
     "data": {
      "image/png": "[encoded data removed]",
      "text/plain": [
       "<Figure size 432x288 with 1 Axes>"
      ]
     },
     "metadata": {
      "needs_background": "light"
     },
     "output_type": "display_data"
    }
   ],
   "source": [
    "predict_from_X(0.8)"
   ]
  },
  {
   "cell_type": "markdown",
   "id": "928ff14c",
   "metadata": {},
   "source": [
    "### Save the model in h5 format\n",
    "\n",
    " - Always save !!!"
   ]
  },
  {
   "cell_type": "code",
   "execution_count": 174,
   "id": "e2233579",
   "metadata": {},
   "outputs": [],
   "source": [
    "model.save(\"model_h5_format/model.h5\")"
   ]
  },
  {
   "cell_type": "markdown",
   "id": "ddb9c566",
   "metadata": {},
   "source": [
    "### Load the model"
   ]
  },
  {
   "cell_type": "code",
   "execution_count": 175,
   "id": "423e5189",
   "metadata": {},
   "outputs": [],
   "source": [
    "model = load_model(\"model_h5_format/model.h5\")"
   ]
  },
  {
   "cell_type": "markdown",
   "id": "dd32ec3b",
   "metadata": {},
   "source": [
    "## Real time test"
   ]
  },
  {
   "cell_type": "code",
   "execution_count": 176,
   "id": "e4a60374",
   "metadata": {},
   "outputs": [],
   "source": [
    "# Make prediction from image (jpg format ...):\n",
    "def predict_from_frame(image, threshold):\n",
    "    image = tf.keras.utils.normalize(image)\n",
    "    image = np.expand_dims(image, axis=0)\n",
    "    prediction = model.predict(image)\n",
    "    index = np.argmax(prediction[0])\n",
    "    probabilty = float(format(max(prediction[0]*100), \".3f\"))\n",
    "    \n",
    "    if probabilty < threshold*100:\n",
    "        title = \"Unknown 'p<threshold'\"\n",
    "    else:\n",
    "        title = f\"{CATEGORIES[index]} {probabilty}%\"\n",
    "        \n",
    "    return title"
   ]
  },
  {
   "cell_type": "code",
   "execution_count": 177,
   "id": "51c60b46",
   "metadata": {},
   "outputs": [],
   "source": [
    "cap = cv2.VideoCapture(0)\n",
    "font = cv2.FONT_HERSHEY_SIMPLEX\n",
    "last_time = time()\n",
    "face_cascade = cv2.CascadeClassifier(\"cascades/data/haarcascade_frontalface_default.xml\")\n",
    "\n",
    "\n",
    "while True:\n",
    "    ret, frame = cap.read()\n",
    "    gray = cv2.cvtColor(frame, cv2.COLOR_BGR2GRAY)\n",
    "    faces = face_cascade.detectMultiScale(gray, scaleFactor=2, minNeighbors=1)\n",
    "    for (x, y, w, h) in faces:\n",
    "        roi = gray[y:y+h, x:x+w]\n",
    "    \n",
    "        resized_roi = cv2.resize(roi, (IMG_SIZE, IMG_SIZE))\n",
    "    \n",
    "        color = (255, 0, 0) \n",
    "        stroke = 2\n",
    "        end_cord_x = x + w\n",
    "        end_cord_y = y + h \n",
    "        cv2.rectangle(frame, (x, y), (end_cord_x, end_cord_y), color, stroke)\n",
    "\n",
    "        p = predict_from_frame(resized_roi, threshold=0.4)   \n",
    "        cv2.putText(frame, p , (x,y), font, 1, (0, 0, 255), 1,1)\n",
    "\n",
    "\n",
    "          \n",
    "    cv2.imshow('Video', frame)\n",
    "    if cv2.waitKey(1) & 0xFF == ord('q'):\n",
    "        break\n",
    "    \n",
    "cap.release()\n",
    "cv2.destroyAllWindows()"
   ]
  },
  {
   "cell_type": "code",
   "execution_count": null,
   "id": "214940b1",
   "metadata": {},
   "outputs": [],
   "source": []
  }
 ],
 "metadata": {
  "kernelspec": {
   "display_name": "Python 3 (ipykernel)",
   "language": "python",
   "name": "python3"
  },
  "language_info": {
   "codemirror_mode": {
    "name": "ipython",
    "version": 3
   },
   "file_extension": ".py",
   "mimetype": "text/x-python",
   "name": "python",
   "nbconvert_exporter": "python",
   "pygments_lexer": "ipython3",
   "version": "3.9.9"
  }
 },
 "nbformat": 4,
 "nbformat_minor": 5
}
