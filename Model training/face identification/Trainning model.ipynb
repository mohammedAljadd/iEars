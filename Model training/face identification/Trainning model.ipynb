{
 "cells": [
  {
   "cell_type": "markdown",
   "id": "6a8e020c",
   "metadata": {},
   "source": [
    "# Multi-Face identification using CNN\n",
    "\n",
    "\n",
    " - In this notebook we will build our facial identification model step by step to recognize four people. Note that we have images in **jpg** format, and we will go throw the details on how to prepare the data (X, y) for our CNN model. We add folder where we put images for people that we don't know to classify them as **unknown**.\n",
    " - The model will be trained on images containing faces, what I mean by that is each image contains just the face area. We don't take the background in consideration.\n",
    " - What if your images are not like that, well you have to options:\n",
    "     - Manually resized them.\n",
    "     - Use face cascade classifier to extract the face part from each image and save them. Watch this video and stop at the 16th minute : https://www.youtube.com/watch?v=PmZ29Vta7Vc&ab_channel=CodingEntrepreneurs. This classifier may miss some faces, and what we did is manually resize the missed images. \n",
    "\n",
    " - You may ask yourself why all this. The model we run on real-time, for each video frame, we will first extract the faces using face cascade, say 5 faces, and run prediction on those faces and show all the 5 prediction.\n",
    " \n",
    "First let's import some libraries :"
   ]
  },
  {
   "cell_type": "code",
   "execution_count": 20,
   "id": "6563aad3",
   "metadata": {},
   "outputs": [],
   "source": [
    "import numpy as np\n",
    "import matplotlib.pyplot as plt\n",
    "import os\n",
    "import cv2\n",
    "from tqdm import tqdm\n",
    "import tensorflow as tf\n",
    "from tensorflow.keras.models import Sequential\n",
    "from tensorflow.keras.layers import Dense, Dropout, Activation, Flatten, BatchNormalization\n",
    "from tensorflow.keras.layers import Conv2D, MaxPooling2D\n",
    "import pickle\n",
    "from tensorflow.keras.preprocessing.image import ImageDataGenerator\n",
    "import random\n",
    "from tensorflow.keras.utils import to_categorical\n",
    "from sklearn.model_selection import train_test_split\n",
    "from tensorflow.keras.models import load_model\n",
    "from random import randrange, uniform"
   ]
  },
  {
   "cell_type": "markdown",
   "id": "bdf3ecc2",
   "metadata": {},
   "source": [
    "    \n",
    "   - We will set the image shape to 64x64.\n",
    "   - DATACROP : directory where we have four folders, each one contains images for each person.\n",
    "   - CATEGORIES : name of the four folders(people).\n",
    "   - One example: **\"../DATACROP/AL JADD/myimage.jpg\"**.\n",
    "   - Look where I put the directory next to the jupyter notebook:\n",
    "<img src=\"dire.png\">\n",
    "<img src=\"5classes.png\"  width=\"500\" height=\"600\">\n",
    "   - I put also the cascades folder used for face cascade on video."
   ]
  },
  {
   "cell_type": "code",
   "execution_count": 21,
   "id": "6ac55992",
   "metadata": {},
   "outputs": [],
   "source": [
    "IMG_SIZE = 32\n",
    "DATACROP = \"dataset_crop\"\n",
    "CATEGORIES = [\"AL JADD\", \"Nossaiba\", \"EL NABAOUI\", \"YE\", \"unknown\"]"
   ]
  },
  {
   "cell_type": "markdown",
   "id": "52328fd5",
   "metadata": {},
   "source": [
    "### Data augmentation\n",
    "\n",
    "   - **Data augmentation** in a technique used to increase the amount of data by adding slightly modified copies of already existing data or newly created synthetic data from existing data.\n",
    "   - we will rotate images by **10°** because our model will process images taken by a camera and in our contest, we know if a person stands in front of the camera, his face will not be rotated by a big angle. How you will augmente your data depends on your usecase."
   ]
  },
  {
   "cell_type": "code",
   "execution_count": 22,
   "id": "9152c9fa",
   "metadata": {},
   "outputs": [],
   "source": [
    "gen = ImageDataGenerator(\n",
    "        # Rotate images by 10°\n",
    "        rotation_range=10,\n",
    "        shear_range=0.01,\n",
    "        channel_shift_range = 5,\n",
    "        brightness_range=(0.1, 1),\n",
    "        horizontal_flip=True,\n",
    "        # The area left after rotationg image will be filled with same color on image\n",
    "        fill_mode='nearest')"
   ]
  },
  {
   "cell_type": "markdown",
   "id": "061b6e8d",
   "metadata": {},
   "source": [
    "### Prepare data for keras\n",
    "\n",
    " - Now will load images, apply data augmentation and convert them to numpy arrays.\n"
   ]
  },
  {
   "cell_type": "code",
   "execution_count": 23,
   "id": "2a13b6e0",
   "metadata": {},
   "outputs": [
    {
     "name": "stderr",
     "output_type": "stream",
     "text": [
      "100%|████████████████████████████████████████████████████████████████████████████████| 187/187 [00:57<00:00,  3.27it/s]\n",
      "100%|████████████████████████████████████████████████████████████████████████████████| 100/100 [00:12<00:00,  8.02it/s]\n",
      "100%|██████████████████████████████████████████████████████████████████████████████████| 92/92 [00:18<00:00,  4.91it/s]\n",
      "100%|████████████████████████████████████████████████████████████████████████████████| 134/134 [00:42<00:00,  3.13it/s]\n",
      "100%|████████████████████████████████████████████████████████████████████████████████| 208/208 [03:43<00:00,  1.07s/it]\n"
     ]
    }
   ],
   "source": [
    "# data : array contains X,y\n",
    "data = []\n",
    "for category in CATEGORIES:\n",
    "    # path for \"DATACROP/category\" : Example : \"dataset_crop/AL JADD/\". dataset_crop is our directory.\n",
    "    path = os.path.join(DATACROP,category) \n",
    "    # class_num is the index of category in CATEGORIES, so AL JADD has the index 0\n",
    "    class_num = CATEGORIES.index(category) \n",
    "    for img in tqdm(os.listdir(path)):\n",
    "        # Image path with its name\n",
    "        img_path = os.path.join(path,img)\n",
    "        \n",
    "        # load image with cv2\n",
    "        img_colored = cv2.imread(img_path)\n",
    "        \n",
    "        # The generator takes batches, the same of a batch is (n, r, g, b) where n is the number of images in the batch,\n",
    "        #r, g and b are the dimention of each image on the batch.\n",
    "        # img_colored is one image and by applying the following line of code it will have the shape (1, r, g, b).\n",
    "        img_expanded = np.expand_dims(img_colored,0)\n",
    "        \n",
    "        # This line of code is essential\n",
    "        aug_iter = gen.flow(img_expanded)\n",
    "        \n",
    "        # For each image we will generate 10 images\n",
    "        aug_images = [next(aug_iter)[0].astype(np.uint8) for i in range(10)]\n",
    "        for image in aug_images:\n",
    "            \n",
    "             # For each generated image, we will convert it to grayscale and resize it so that the model training will be very\n",
    "             # fast. Now every image is an array.\n",
    "            img_gray_aug = cv2.cvtColor(image, cv2.COLOR_BGR2GRAY)\n",
    "            img_gray_aug_resized = cv2.resize(img_gray_aug, (IMG_SIZE, IMG_SIZE))\n",
    "            \n",
    "            # add the image array and the index. The 10 images will have the same class_num because they are generated from\n",
    "            # the same image. \n",
    "            # Example : image1.jpg of \"AL JADD\" has index 0 because \"AL JADD\" is the first in CATEGORIES. So the generated \n",
    "            # images 1image1.jpg, ..., 10image1.jpg will have the index 0. Those image names are just examples.\n",
    "            data.append([img_gray_aug_resized, class_num])        "
   ]
  },
  {
   "cell_type": "markdown",
   "id": "05e3a80d",
   "metadata": {},
   "source": [
    "### Shuffle the data\n",
    "\n",
    "  - Remember to shuffle the data so that the model gets diffrent classes in training."
   ]
  },
  {
   "cell_type": "code",
   "execution_count": 24,
   "id": "3b2a8823",
   "metadata": {},
   "outputs": [],
   "source": [
    "random.shuffle(data)"
   ]
  },
  {
   "cell_type": "markdown",
   "id": "7f2c6727",
   "metadata": {},
   "source": [
    "### One hot for outputs\n",
    "\n",
    " - This is very important to understand. In binary classification the y outputs takes two values (0, 1) but, in our case we have five values because class_num vary from 0 to 4. So we will convert y to one hot.\n",
    " - y is :\n",
    "$$y = \\begin{bmatrix}0\\\\\n",
    "1\\\\\n",
    "2\\\\\n",
    "3\\\\\n",
    "4\\\\\n",
    "\\end{bmatrix}$$\n",
    "- y after one hot transformation :\n",
    "$$y_{one-hot} = \\begin{bmatrix}1 & 0 & 0 & 0 & 0\\\\\n",
    "0 & 1 & 0 & 0 & 0\\\\\n",
    "0 & 0 & 1 & 0 & 0\\\\\n",
    "0 & 0 & 0 & 1 & 0\\\\\n",
    "0 & 0 & 0 & 0 & 1\\\\\n",
    "\\end{bmatrix}$$"
   ]
  },
  {
   "cell_type": "code",
   "execution_count": 25,
   "id": "5a5a7859",
   "metadata": {},
   "outputs": [],
   "source": [
    "X = []\n",
    "y = []\n",
    "\n",
    "for features,label in data:\n",
    "    X.append(features)\n",
    "    y.append(label)\n",
    "\n",
    "# One hot :\n",
    "y = to_categorical(y)\n",
    "\n",
    "# Images are on grayscale (a, b) (X shape is (m, a, b) where m number of images) shape. \n",
    "# We want (a, b, 1) (X (m, a, b, 1) shape :\n",
    "X = np.array(X).reshape(-1, IMG_SIZE, IMG_SIZE, 1)\n",
    "y = np.array(y)"
   ]
  },
  {
   "cell_type": "code",
   "execution_count": 26,
   "id": "f2aafe9c",
   "metadata": {},
   "outputs": [
    {
     "name": "stdout",
     "output_type": "stream",
     "text": [
      "(7210, 32, 32, 1)\n",
      "(7210, 5)\n"
     ]
    }
   ],
   "source": [
    "print(X.shape)\n",
    "print(y.shape)"
   ]
  },
  {
   "cell_type": "markdown",
   "id": "82ac7009",
   "metadata": {},
   "source": [
    "### Save data as pickle format\n",
    "\n",
    " - Always save your data so next time you will just load X and y without repeating the above codes again "
   ]
  },
  {
   "cell_type": "code",
   "execution_count": 27,
   "id": "4a0ec3c5",
   "metadata": {},
   "outputs": [],
   "source": [
    "pickle_out = open(\"X.pickle\",\"wb\")\n",
    "pickle.dump(X, pickle_out)\n",
    "pickle_out.close()\n",
    "\n",
    "pickle_out = open(\"y.pickle\",\"wb\")\n",
    "pickle.dump(y, pickle_out)\n",
    "pickle_out.close()"
   ]
  },
  {
   "cell_type": "markdown",
   "id": "199ea3c0",
   "metadata": {},
   "source": [
    "<img src=\"dire2.png\">"
   ]
  },
  {
   "cell_type": "markdown",
   "id": "fe52081c",
   "metadata": {},
   "source": [
    "### Load data"
   ]
  },
  {
   "cell_type": "code",
   "execution_count": 28,
   "id": "0fc28748",
   "metadata": {},
   "outputs": [
    {
     "name": "stdout",
     "output_type": "stream",
     "text": [
      "One training example shape: (32, 32, 1)\n",
      "Output shape: (5,)\n"
     ]
    }
   ],
   "source": [
    "pickle_in = open(\"X.pickle\",\"rb\")\n",
    "X = pickle.load(pickle_in)\n",
    "\n",
    "pickle_in = open(\"y.pickle\",\"rb\")\n",
    "y = pickle.load(pickle_in)\n",
    "\n",
    "# Rescale the image. The values will vary from 0 to 1 for fast training\n",
    "X = X/255.0\n",
    "print(f'One training example shape: {X.shape[1:]}')\n",
    "print(f'Output shape: {y.shape[1:]}')"
   ]
  },
  {
   "cell_type": "markdown",
   "id": "7166f65c",
   "metadata": {},
   "source": [
    "### Split data"
   ]
  },
  {
   "cell_type": "code",
   "execution_count": 29,
   "id": "27c32197",
   "metadata": {},
   "outputs": [],
   "source": [
    "X_train, X_test, y_train, y_test = train_test_split(X, y, test_size=0.4)"
   ]
  },
  {
   "cell_type": "markdown",
   "id": "0da37ae4",
   "metadata": {},
   "source": [
    "### Build the CNN model"
   ]
  },
  {
   "cell_type": "code",
   "execution_count": 31,
   "id": "cd6b7c4f",
   "metadata": {},
   "outputs": [],
   "source": [
    "model = Sequential()\n",
    "# The input shape is the image shape (a, b, 1) 'It is grayscale'\n",
    "model.add(Conv2D(32, kernel_size=3, activation='relu', input_shape=(IMG_SIZE, IMG_SIZE, 1)))\n",
    "model.add(Conv2D(64, kernel_size=3, activation='relu'))\n",
    "model.add(Conv2D(128, kernel_size=3, activation='relu'))\n",
    "model.add(Dropout(0.6))\n",
    "model.add(Conv2D(128, kernel_size=3, activation='relu'))\n",
    "model.add(Conv2D(64, kernel_size=3, activation='relu'))\n",
    "model.add(Conv2D(32, kernel_size=3, activation='relu'))\n",
    "#model.add(Dropout(0.6))\n",
    "\n",
    "\n",
    "model.add(Flatten())\n",
    "\n",
    "# I have four classes, so make sure to use the right number bellow\n",
    "model.add(Dense(5, activation='softmax'))\n",
    "\n",
    "\n",
    "model.compile(loss='binary_crossentropy',\n",
    "              optimizer='adam',\n",
    "              metrics=['accuracy'])"
   ]
  },
  {
   "cell_type": "markdown",
   "id": "4ff062b4",
   "metadata": {},
   "source": [
    "### Train the model\n",
    "\n",
    " - Epochs are number of passes on the entire dataset. The model will pass 5 times on the dataset. In each epoch, it will takes 20 images (batch_size)"
   ]
  },
  {
   "cell_type": "code",
   "execution_count": 32,
   "id": "6ddfabe4",
   "metadata": {},
   "outputs": [
    {
     "name": "stdout",
     "output_type": "stream",
     "text": [
      "Epoch 1/5\n",
      "130/130 [==============================] - 28s 208ms/step - loss: 0.3701 - accuracy: 0.5511 - val_loss: 0.1178 - val_accuracy: 0.9295\n",
      "Epoch 2/5\n",
      "130/130 [==============================] - 28s 213ms/step - loss: 0.1242 - accuracy: 0.9214 - val_loss: 0.0882 - val_accuracy: 0.9451\n",
      "Epoch 3/5\n",
      "130/130 [==============================] - 28s 215ms/step - loss: 0.0645 - accuracy: 0.9595 - val_loss: 0.0455 - val_accuracy: 0.9752\n",
      "Epoch 4/5\n",
      "130/130 [==============================] - 28s 215ms/step - loss: 0.0401 - accuracy: 0.9788 - val_loss: 0.0399 - val_accuracy: 0.9798\n",
      "Epoch 5/5\n",
      "130/130 [==============================] - 28s 217ms/step - loss: 0.0352 - accuracy: 0.9842 - val_loss: 0.0262 - val_accuracy: 0.9896\n"
     ]
    },
    {
     "data": {
      "text/plain": [
       "<keras.callbacks.History at 0x14ff2c97f70>"
      ]
     },
     "execution_count": 32,
     "metadata": {},
     "output_type": "execute_result"
    }
   ],
   "source": [
    "model.fit(X_train, y_train, batch_size=20, epochs=5, validation_split=0.4)"
   ]
  },
  {
   "cell_type": "markdown",
   "id": "0a123159",
   "metadata": {},
   "source": [
    "### Evaluate the model on the test set"
   ]
  },
  {
   "cell_type": "code",
   "execution_count": 33,
   "id": "2db6b41a",
   "metadata": {},
   "outputs": [
    {
     "name": "stdout",
     "output_type": "stream",
     "text": [
      "91/91 [==============================] - 5s 51ms/step - loss: 0.0371 - accuracy: 0.9806\n"
     ]
    },
    {
     "data": {
      "text/plain": [
       "[0.03709942102432251, 0.9805825352668762]"
      ]
     },
     "execution_count": 33,
     "metadata": {},
     "output_type": "execute_result"
    }
   ],
   "source": [
    "model.evaluate(X_test, y_test)\n",
    "\n",
    "# If the model suffer from overfitting, try to change CNN architecture by adding Droput layers ... \n",
    "# You may spend a lot time retraining your model. DO NOT BE SAD! ... You have to know what your model suffer from, and try to \n",
    "# solve the problem."
   ]
  },
  {
   "cell_type": "markdown",
   "id": "928ff14c",
   "metadata": {},
   "source": [
    "### Save the model in h5 format\n",
    "\n",
    " - Always save !!!"
   ]
  },
  {
   "cell_type": "code",
   "execution_count": 34,
   "id": "e2233579",
   "metadata": {},
   "outputs": [],
   "source": [
    "model.save(\"my_model.h5\")"
   ]
  },
  {
   "cell_type": "markdown",
   "id": "ddb9c566",
   "metadata": {},
   "source": [
    "### Load the model"
   ]
  },
  {
   "cell_type": "code",
   "execution_count": 35,
   "id": "423e5189",
   "metadata": {},
   "outputs": [
    {
     "name": "stdout",
     "output_type": "stream",
     "text": [
      "Model: \"sequential_1\"\n",
      "_________________________________________________________________\n",
      " Layer (type)                Output Shape              Param #   \n",
      "=================================================================\n",
      " conv2d_5 (Conv2D)           (None, 30, 30, 32)        320       \n",
      "                                                                 \n",
      " conv2d_6 (Conv2D)           (None, 28, 28, 64)        18496     \n",
      "                                                                 \n",
      " conv2d_7 (Conv2D)           (None, 26, 26, 128)       73856     \n",
      "                                                                 \n",
      " dropout (Dropout)           (None, 26, 26, 128)       0         \n",
      "                                                                 \n",
      " conv2d_8 (Conv2D)           (None, 24, 24, 128)       147584    \n",
      "                                                                 \n",
      " conv2d_9 (Conv2D)           (None, 22, 22, 64)        73792     \n",
      "                                                                 \n",
      " conv2d_10 (Conv2D)          (None, 20, 20, 32)        18464     \n",
      "                                                                 \n",
      " flatten_1 (Flatten)         (None, 12800)             0         \n",
      "                                                                 \n",
      " dense_1 (Dense)             (None, 5)                 64005     \n",
      "                                                                 \n",
      "=================================================================\n",
      "Total params: 396,517\n",
      "Trainable params: 396,517\n",
      "Non-trainable params: 0\n",
      "_________________________________________________________________\n"
     ]
    }
   ],
   "source": [
    "new_model = load_model(\"my_model.h5\")\n",
    "new_model.summary()"
   ]
  },
  {
   "cell_type": "code",
   "execution_count": 36,
   "id": "5271fac8",
   "metadata": {},
   "outputs": [],
   "source": [
    "# Make prediction from X_test:\n",
    "# I will set threshold = 0.5 so if the model gives for example 0.4 probability that an image belongs to a class, I will consider\n",
    "# not taking it into consideration\n",
    "def predict_from_X(i, threshold):\n",
    "    x = X_test[i]\n",
    "    plt.imshow(x)\n",
    "    x = np.expand_dims(x, axis=0)\n",
    "    prediction = new_model.predict(x)\n",
    "    i  =  np.array(np.where(((prediction >= threshold).astype('int32')[0]) == 1))[0]\n",
    "    who = \"\"\n",
    "    \n",
    "    if i.shape == (0,):\n",
    "        who = \"Person not recognized\"\n",
    "    else:\n",
    "        \n",
    "        if i[0] == 0:\n",
    "            who = \"AL JADD\"\n",
    "\n",
    "        elif i[0] == 1:\n",
    "            who = \"Nossaiba\"\n",
    "\n",
    "        elif i[0] == 2:\n",
    "            who = \"EL NABAOUI\"\n",
    "\n",
    "        elif i[0] == 3:\n",
    "            who = \"YE Langze\"\n",
    "        else:\n",
    "            pass\n",
    "    print(who)\n",
    "    plt.show()"
   ]
  },
  {
   "cell_type": "code",
   "execution_count": 37,
   "id": "a68bee34",
   "metadata": {},
   "outputs": [],
   "source": [
    "# Make prediction from X_test:\n",
    "# I will set threshold = 0.5 so if the model gives for example 0.4 probability that an image belongs to a class, I will consider\n",
    "# not taking it into consideration\n",
    "def predict_from_X(i, threshold):\n",
    "    x = X_test[i]\n",
    "    plt.imshow(x)\n",
    "    x = np.expand_dims(x, axis=0)\n",
    "    prediction = new_model.predict(x)\n",
    "    i  =  np.array(np.where(((prediction >= threshold).astype('int32')[0]) == 1))[0]\n",
    "    who = \"\"\n",
    "    \n",
    "    if not i.shape == (0,):\n",
    "        if i[0] == 0:\n",
    "                who = \"AL JADD\"\n",
    "\n",
    "        elif i[0] == 1:\n",
    "            who = \"Nossaiba\"\n",
    "\n",
    "        elif i[0] == 2:\n",
    "            who = \"EL NABAOUI\"\n",
    "\n",
    "        elif i[0] == 3:\n",
    "            who = \"YE Langze\"\n",
    "        else:\n",
    "            who = \"Unknown\"\n",
    "    else:\n",
    "        who = \"Unknown\"\n",
    "    print(who)\n",
    "    plt.show()"
   ]
  },
  {
   "cell_type": "code",
   "execution_count": 38,
   "id": "9f1b7cf9",
   "metadata": {},
   "outputs": [
    {
     "name": "stdout",
     "output_type": "stream",
     "text": [
      "Unknown\n"
     ]
    },
    {
     "data": {
      "image/png": "[encoded data removed]",
      "text/plain": [
       "<Figure size 432x288 with 1 Axes>"
      ]
     },
     "metadata": {
      "needs_background": "light"
     },
     "output_type": "display_data"
    }
   ],
   "source": [
    "predict_from_X(randrange(0, X_test.shape[0]-1), threshold=0.8)"
   ]
  },
  {
   "cell_type": "markdown",
   "id": "dd32ec3b",
   "metadata": {},
   "source": [
    "## Real time test"
   ]
  },
  {
   "cell_type": "code",
   "execution_count": 39,
   "id": "e4a60374",
   "metadata": {},
   "outputs": [],
   "source": [
    "# Make prediction from image (jpg format ...):\n",
    "def predict_from_frame(image, threshold):\n",
    "    image = np.expand_dims(image, axis=0)\n",
    "    prediction = new_model.predict(image)\n",
    "    i  =  np.array(np.where(((prediction >= threshold).astype('int32')[0]) == 1))[0]\n",
    "    who = \"\"\n",
    "    if not i.shape == (0,):\n",
    "        if i[0] == 0:\n",
    "                who = \"AL JADD\"\n",
    "\n",
    "        elif i[0] == 1:\n",
    "            who = \"Nossaiba\"\n",
    "\n",
    "        elif i[0] == 2:\n",
    "            who = \"EL NABAOUI\"\n",
    "\n",
    "        elif i[0] == 3:\n",
    "            who = \"YE Langze\"\n",
    "        else:\n",
    "            who = \"Unknown\"\n",
    "    else:\n",
    "        who = \"Unknown\"\n",
    "    return who"
   ]
  },
  {
   "cell_type": "code",
   "execution_count": 40,
   "id": "51c60b46",
   "metadata": {},
   "outputs": [],
   "source": [
    "from time import time\n",
    "cap = cv2.VideoCapture(0)\n",
    "font = cv2.FONT_HERSHEY_SIMPLEX\n",
    "last_time = time()\n",
    "face_cascade = cv2.CascadeClassifier(\"cascades/data/haarcascade_frontalface_default.xml\")\n",
    "\n",
    "while True:\n",
    "    ret, frame = cap.read()\n",
    "    gray = cv2.cvtColor(frame, cv2.COLOR_BGR2GRAY)\n",
    "    faces = face_cascade.detectMultiScale(gray, scaleFactor=2, minNeighbors=1)\n",
    "    for (x, y, w, h) in faces:\n",
    "            roi_gray = gray[y:y+h, x:x+w]\n",
    "            roi_sav = frame[y:y+h, x:x+w]\n",
    "            resized_roi_gray = cv2.resize(roi_gray, (IMG_SIZE, IMG_SIZE))\n",
    "            # When you wanna make prediction, you have to rescale the image first. I pass two days figuring out why my model\n",
    "            # outputing the same result. As the model was trained on rescaled images, the prediction must done on rescaled\n",
    "            # images too.\n",
    "            resized_roi_gray_recaled = resized_roi_gray/255.0\n",
    "            \n",
    "            color = (255, 0, 0) \n",
    "            stroke = 2\n",
    "            end_cord_x = x + w\n",
    "            end_cord_y = y + h \n",
    "            cv2.rectangle(frame, (x, y), (end_cord_x, end_cord_y), color, stroke)\n",
    "            \n",
    "            p = predict_from_frame(resized_roi_gray_recaled, threshold=0.8)   \n",
    "            cv2.putText(frame, p , (x,y), font, 1, (0, 0, 255), 1, cv2.LINE_4)\n",
    "          \n",
    "    cv2.imshow('Video', frame)\n",
    "    if cv2.waitKey(1) & 0xFF == ord('q'):\n",
    "        break\n",
    "    \n",
    "cap.release()\n",
    "cv2.destroyAllWindows()"
   ]
  },
  {
   "cell_type": "code",
   "execution_count": null,
   "id": "1bff3696",
   "metadata": {},
   "outputs": [],
   "source": []
  }
 ],
 "metadata": {
  "kernelspec": {
   "display_name": "Python 3 (ipykernel)",
   "language": "python",
   "name": "python3"
  },
  "language_info": {
   "codemirror_mode": {
    "name": "ipython",
    "version": 3
   },
   "file_extension": ".py",
   "mimetype": "text/x-python",
   "name": "python",
   "nbconvert_exporter": "python",
   "pygments_lexer": "ipython3",
   "version": "3.9.9"
  }
 },
 "nbformat": 4,
 "nbformat_minor": 5
}
